{
  "nbformat": 4,
  "nbformat_minor": 0,
  "metadata": {
    "colab": {
      "name": "Covid -19 Analysis using RNN with LSTM.ipynb",
      "provenance": [],
      "toc_visible": true,
      "authorship_tag": "ABX9TyMBGXoUvRlUpfdj58F57ykG",
      "include_colab_link": true
    },
    "kernelspec": {
      "display_name": "Python 3",
      "name": "python3"
    },
    "language_info": {
      "name": "python"
    }
  },
  "cells": [
    {
      "cell_type": "markdown",
      "metadata": {
        "id": "view-in-github",
        "colab_type": "text"
      },
      "source": [
        "<a href=\"https://colab.research.google.com/github/ghost331/Recurrent-Neural-Network/blob/main/Covid_19_Analysis_using_RNN_with_LSTM.ipynb\" target=\"_parent\"><img src=\"https://colab.research.google.com/assets/colab-badge.svg\" alt=\"Open In Colab\"/></a>"
      ]
    },
    {
      "cell_type": "code",
      "metadata": {
        "id": "ijlCYoMN2rDI"
      },
      "source": [
        "#Data: https://github.com/CSSEGISandData/COVID-19/blob/master/csse_covid_19_data/csse_covid_19_time_series/time_series_covid19_confirmed_global.csv"
      ],
      "execution_count": null,
      "outputs": []
    },
    {
      "cell_type": "code",
      "metadata": {
        "id": "fwIqlE0H3zwL"
      },
      "source": [
        "import pandas as pd\n",
        "import numpy as np\n",
        "import matplotlib.pyplot as plt"
      ],
      "execution_count": null,
      "outputs": []
    },
    {
      "cell_type": "code",
      "metadata": {
        "id": "gm2WvKhp4Glr"
      },
      "source": [
        "country = \"India\""
      ],
      "execution_count": null,
      "outputs": []
    },
    {
      "cell_type": "code",
      "metadata": {
        "id": "ekxgWAIj4RYx"
      },
      "source": [
        "#Total COVID confirmed cases\n",
        "df_confirmed = pd.read_csv(\"https://raw.githubusercontent.com/CSSEGISandData/COVID-19/master/csse_covid_19_data/csse_covid_19_time_series/time_series_covid19_confirmed_global.csv\")"
      ],
      "execution_count": null,
      "outputs": []
    },
    {
      "cell_type": "code",
      "metadata": {
        "colab": {
          "base_uri": "https://localhost:8080/",
          "height": 364
        },
        "id": "QTAlSV034Uad",
        "outputId": "aa180cce-3cb2-4e0b-ec6f-4b5c06d8f56c"
      },
      "source": [
        "df_confirmed_country = df_confirmed[df_confirmed[\"Country/Region\"] == country]\n",
        "df_confirmed_country = pd.DataFrame(df_confirmed_country[df_confirmed_country.columns[4:]].sum(),columns=[\"confirmed\"])\n",
        "df_confirmed_country.index = pd.to_datetime(df_confirmed_country.index,format='%m/%d/%y')\n",
        "df_confirmed_country.plot(figsize=(10,5),title=\"COVID confirmed cases\")\n",
        "\n"
      ],
      "execution_count": null,
      "outputs": [
        {
          "output_type": "execute_result",
          "data": {
            "text/plain": [
              "<matplotlib.axes._subplots.AxesSubplot at 0x7f0d1139bad0>"
            ]
          },
          "metadata": {},
          "execution_count": 5
        },
        {
          "output_type": "display_data",
          "data": {
            "image/png": "[encoded data removed]",
            "text/plain": [
              "<Figure size 720x360 with 1 Axes>"
            ]
          },
          "metadata": {
            "needs_background": "light"
          }
        }
      ]
    },
    {
      "cell_type": "code",
      "metadata": {
        "colab": {
          "base_uri": "https://localhost:8080/",
          "height": 363
        },
        "id": "fwIrXzQ5T13M",
        "outputId": "6eaae826-8645-4f30-954d-801d3fc7e302"
      },
      "source": [
        "df_confirmed_country.tail(10)"
      ],
      "execution_count": null,
      "outputs": [
        {
          "output_type": "execute_result",
          "data": {
            "text/html": [
              "<div>\n",
              "<style scoped>\n",
              "    .dataframe tbody tr th:only-of-type {\n",
              "        vertical-align: middle;\n",
              "    }\n",
              "\n",
              "    .dataframe tbody tr th {\n",
              "        vertical-align: top;\n",
              "    }\n",
              "\n",
              "    .dataframe thead th {\n",
              "        text-align: right;\n",
              "    }\n",
              "</style>\n",
              "<table border=\"1\" class=\"dataframe\">\n",
              "  <thead>\n",
              "    <tr style=\"text-align: right;\">\n",
              "      <th></th>\n",
              "      <th>confirmed</th>\n",
              "    </tr>\n",
              "  </thead>\n",
              "  <tbody>\n",
              "    <tr>\n",
              "      <th>2021-11-18</th>\n",
              "      <td>34489623</td>\n",
              "    </tr>\n",
              "    <tr>\n",
              "      <th>2021-11-19</th>\n",
              "      <td>34499925</td>\n",
              "    </tr>\n",
              "    <tr>\n",
              "      <th>2021-11-20</th>\n",
              "      <td>34510413</td>\n",
              "    </tr>\n",
              "    <tr>\n",
              "      <th>2021-11-21</th>\n",
              "      <td>34518901</td>\n",
              "    </tr>\n",
              "    <tr>\n",
              "      <th>2021-11-22</th>\n",
              "      <td>34526480</td>\n",
              "    </tr>\n",
              "    <tr>\n",
              "      <th>2021-11-23</th>\n",
              "      <td>34535763</td>\n",
              "    </tr>\n",
              "    <tr>\n",
              "      <th>2021-11-24</th>\n",
              "      <td>34544882</td>\n",
              "    </tr>\n",
              "    <tr>\n",
              "      <th>2021-11-25</th>\n",
              "      <td>34555431</td>\n",
              "    </tr>\n",
              "    <tr>\n",
              "      <th>2021-11-26</th>\n",
              "      <td>34563749</td>\n",
              "    </tr>\n",
              "    <tr>\n",
              "      <th>2021-11-27</th>\n",
              "      <td>34572523</td>\n",
              "    </tr>\n",
              "  </tbody>\n",
              "</table>\n",
              "</div>"
            ],
            "text/plain": [
              "            confirmed\n",
              "2021-11-18   34489623\n",
              "2021-11-19   34499925\n",
              "2021-11-20   34510413\n",
              "2021-11-21   34518901\n",
              "2021-11-22   34526480\n",
              "2021-11-23   34535763\n",
              "2021-11-24   34544882\n",
              "2021-11-25   34555431\n",
              "2021-11-26   34563749\n",
              "2021-11-27   34572523"
            ]
          },
          "metadata": {},
          "execution_count": 6
        }
      ]
    },
    {
      "cell_type": "code",
      "metadata": {
        "colab": {
          "base_uri": "https://localhost:8080/"
        },
        "id": "_F_0sxOJUA2c",
        "outputId": "3da3fbfd-d452-4ace-efa5-7e694840e643"
      },
      "source": [
        "print(\"Total days in the dataset\", len(df_confirmed_country))"
      ],
      "execution_count": null,
      "outputs": [
        {
          "output_type": "stream",
          "name": "stdout",
          "text": [
            "Total days in the dataset 676\n"
          ]
        }
      ]
    },
    {
      "cell_type": "code",
      "metadata": {
        "id": "X3eTEpQ4UJCB"
      },
      "source": [
        "#Use data until 14 days before as training\n",
        "x = len(df_confirmed_country)-14\n"
      ],
      "execution_count": null,
      "outputs": []
    },
    {
      "cell_type": "code",
      "metadata": {
        "id": "xRMWfm8CUMKM"
      },
      "source": [
        "\n",
        "train=df_confirmed_country.iloc[300:x]\n",
        "test = df_confirmed_country.iloc[x:]"
      ],
      "execution_count": null,
      "outputs": []
    },
    {
      "cell_type": "code",
      "metadata": {
        "colab": {
          "base_uri": "https://localhost:8080/"
        },
        "id": "u7h1WHH5UaKU",
        "outputId": "0840a60b-cf70-4376-8035-17328bb7a2a3"
      },
      "source": [
        "##scale or normalize data as the data is too skewed\n",
        "from sklearn.preprocessing import MinMaxScaler\n",
        "scaler = MinMaxScaler()\n",
        "scaler.fit(train) \n"
      ],
      "execution_count": null,
      "outputs": [
        {
          "output_type": "execute_result",
          "data": {
            "text/plain": [
              "MinMaxScaler()"
            ]
          },
          "metadata": {},
          "execution_count": 10
        }
      ]
    },
    {
      "cell_type": "code",
      "metadata": {
        "id": "YUrTUj8JUwu7"
      },
      "source": [
        "train_scaled = scaler.transform(train)\n",
        "test_scaled = scaler.transform(test)\n"
      ],
      "execution_count": null,
      "outputs": []
    },
    {
      "cell_type": "code",
      "metadata": {
        "id": "CrPOOlyMU1sm"
      },
      "source": [
        "## Use TimeSeriestrain_generator to generate data in sequences.\n",
        "#Alternatively we can create our own sequences. \n",
        "from keras.preprocessing.sequence import TimeseriesGenerator"
      ],
      "execution_count": null,
      "outputs": []
    },
    {
      "cell_type": "code",
      "metadata": {
        "id": "EBm_t0mrU9AR"
      },
      "source": [
        "#Sequence size has an impact on prediction, especially since COVID is unpredictable!\n",
        "seq_size = 7  ## number of steps (lookback)"
      ],
      "execution_count": null,
      "outputs": []
    },
    {
      "cell_type": "code",
      "metadata": {
        "colab": {
          "base_uri": "https://localhost:8080/"
        },
        "id": "B5OoGQXuVE1x",
        "outputId": "0b0e157d-974f-4637-f6b4-3dbb9aec7747"
      },
      "source": [
        "n_features = 1 ## number of features. This dataset is univariate so it is 1\n",
        "train_generator = TimeseriesGenerator(train_scaled, train_scaled, length = seq_size, batch_size=1)\n",
        "print(\"Total number of samples in the original training data = \", len(train)) # 660\n",
        "print(\"Total number of samples in the generated data = \", len(train_generator)) #653  with seq_size=7\n"
      ],
      "execution_count": null,
      "outputs": [
        {
          "output_type": "stream",
          "name": "stdout",
          "text": [
            "Total number of samples in the original training data =  362\n",
            "Total number of samples in the generated data =  355\n"
          ]
        }
      ]
    },
    {
      "cell_type": "code",
      "metadata": {
        "id": "57e6Gaa1Vyqv"
      },
      "source": [
        "#Check data shape from generator\n",
        "x,y = train_generator[10]  #Check train_generator\n",
        "#Takes 7 days as x and 8th day as y (for seq_size=7)"
      ],
      "execution_count": null,
      "outputs": []
    },
    {
      "cell_type": "code",
      "metadata": {
        "colab": {
          "base_uri": "https://localhost:8080/"
        },
        "id": "fVI2Hcm6WEcS",
        "outputId": "e7d608d0-da9c-4a5b-b619-4fd7493f0eca"
      },
      "source": [
        "#Also generate test data\n",
        "test_generator = TimeseriesGenerator(test_scaled, test_scaled, length=seq_size, batch_size=1)\n",
        "print(\"Total number of samples in the original training data = \", len(test)) # 14 as we're using last 14 days for test\n",
        "print(\"Total number of samples in the generated data = \", len(test_generator)) # 7\n",
        "#Check data shape from generator\n",
        "x,y = test_generator[0]\n"
      ],
      "execution_count": null,
      "outputs": [
        {
          "output_type": "stream",
          "name": "stdout",
          "text": [
            "Total number of samples in the original training data =  14\n",
            "Total number of samples in the generated data =  7\n"
          ]
        }
      ]
    },
    {
      "cell_type": "code",
      "metadata": {
        "id": "E1HvdkgBWJ_E"
      },
      "source": [
        "from keras.models import Sequential\n",
        "from keras.layers import Dense, LSTM, Dropout, Activation\n"
      ],
      "execution_count": null,
      "outputs": []
    },
    {
      "cell_type": "code",
      "metadata": {
        "colab": {
          "base_uri": "https://localhost:8080/"
        },
        "id": "XRAjloq7WOuP",
        "outputId": "f95d2020-7814-4744-f0c0-d16d82607f61"
      },
      "source": [
        "#Define Model \n",
        "model = Sequential()\n",
        "model.add(LSTM(128, activation='relu', return_sequences=True, input_shape=(seq_size, n_features)))\n",
        "model.add(LSTM(64, activation='relu'))\n",
        "model.add(Dense(32))\n",
        "model.add(Dense(1))\n",
        "model.compile(optimizer='adam', loss='mean_squared_error')\n",
        "model.summary()\n",
        "print('Train...')"
      ],
      "execution_count": null,
      "outputs": [
        {
          "output_type": "stream",
          "name": "stdout",
          "text": [
            "Model: \"sequential\"\n",
            "_________________________________________________________________\n",
            " Layer (type)                Output Shape              Param #   \n",
            "=================================================================\n",
            " lstm (LSTM)                 (None, 7, 128)            66560     \n",
            "                                                                 \n",
            " lstm_1 (LSTM)               (None, 64)                49408     \n",
            "                                                                 \n",
            " dense (Dense)               (None, 32)                2080      \n",
            "                                                                 \n",
            " dense_1 (Dense)             (None, 1)                 33        \n",
            "                                                                 \n",
            "=================================================================\n",
            "Total params: 118,081\n",
            "Trainable params: 118,081\n",
            "Non-trainable params: 0\n",
            "_________________________________________________________________\n",
            "Train...\n"
          ]
        }
      ]
    },
    {
      "cell_type": "code",
      "metadata": {
        "colab": {
          "base_uri": "https://localhost:8080/"
        },
        "id": "MNXHBcpjWXGR",
        "outputId": "f050a52e-5cc5-4bad-e3b6-d3c7c82e7b18"
      },
      "source": [
        "\n",
        "history = model.fit_generator(train_generator, \n",
        "                              validation_data=test_generator, \n",
        "                              epochs=30, steps_per_epoch=10)\n"
      ],
      "execution_count": null,
      "outputs": [
        {
          "output_type": "stream",
          "name": "stderr",
          "text": [
            "/usr/local/lib/python3.7/dist-packages/ipykernel_launcher.py:4: UserWarning: `Model.fit_generator` is deprecated and will be removed in a future version. Please use `Model.fit`, which supports generators.\n",
            "  after removing the cwd from sys.path.\n"
          ]
        },
        {
          "output_type": "stream",
          "name": "stdout",
          "text": [
            "Epoch 1/30\n",
            "10/10 [==============================] - 3s 56ms/step - loss: 0.4671 - val_loss: 0.4472\n",
            "Epoch 2/30\n",
            "10/10 [==============================] - 0s 14ms/step - loss: 0.1177 - val_loss: 2.5830e-04\n",
            "Epoch 3/30\n",
            "10/10 [==============================] - 0s 15ms/step - loss: 0.0385 - val_loss: 0.0032\n",
            "Epoch 4/30\n",
            "10/10 [==============================] - 0s 15ms/step - loss: 0.0167 - val_loss: 0.1395\n",
            "Epoch 5/30\n",
            "10/10 [==============================] - 0s 15ms/step - loss: 0.0287 - val_loss: 0.0444\n",
            "Epoch 6/30\n",
            "10/10 [==============================] - 0s 17ms/step - loss: 0.0085 - val_loss: 0.0079\n",
            "Epoch 7/30\n",
            "10/10 [==============================] - 0s 19ms/step - loss: 0.0043 - val_loss: 0.0079\n",
            "Epoch 8/30\n",
            "10/10 [==============================] - 0s 15ms/step - loss: 0.0023 - val_loss: 0.0012\n",
            "Epoch 9/30\n",
            "10/10 [==============================] - 0s 15ms/step - loss: 0.0018 - val_loss: 0.0117\n",
            "Epoch 10/30\n",
            "10/10 [==============================] - 0s 14ms/step - loss: 0.0023 - val_loss: 4.6384e-04\n",
            "Epoch 11/30\n",
            "10/10 [==============================] - 0s 15ms/step - loss: 0.0012 - val_loss: 4.7188e-04\n",
            "Epoch 12/30\n",
            "10/10 [==============================] - 0s 19ms/step - loss: 2.6500e-04 - val_loss: 1.3271e-05\n",
            "Epoch 13/30\n",
            "10/10 [==============================] - 0s 14ms/step - loss: 6.6341e-05 - val_loss: 4.4903e-04\n",
            "Epoch 14/30\n",
            "10/10 [==============================] - 0s 19ms/step - loss: 2.1926e-04 - val_loss: 0.0105\n",
            "Epoch 15/30\n",
            "10/10 [==============================] - 0s 15ms/step - loss: 0.0023 - val_loss: 3.7778e-04\n",
            "Epoch 16/30\n",
            "10/10 [==============================] - 0s 14ms/step - loss: 0.0014 - val_loss: 0.0040\n",
            "Epoch 17/30\n",
            "10/10 [==============================] - 0s 15ms/step - loss: 0.0013 - val_loss: 4.5216e-04\n",
            "Epoch 18/30\n",
            "10/10 [==============================] - 0s 14ms/step - loss: 0.0012 - val_loss: 1.9119e-05\n",
            "Epoch 19/30\n",
            "10/10 [==============================] - 0s 14ms/step - loss: 3.5366e-04 - val_loss: 4.2354e-04\n",
            "Epoch 20/30\n",
            "10/10 [==============================] - 0s 16ms/step - loss: 2.7243e-05 - val_loss: 1.6032e-05\n",
            "Epoch 21/30\n",
            "10/10 [==============================] - 0s 19ms/step - loss: 3.7086e-05 - val_loss: 1.0397e-04\n",
            "Epoch 22/30\n",
            "10/10 [==============================] - 0s 15ms/step - loss: 1.2576e-05 - val_loss: 1.8879e-05\n",
            "Epoch 23/30\n",
            "10/10 [==============================] - 0s 14ms/step - loss: 8.6981e-05 - val_loss: 1.9673e-04\n",
            "Epoch 24/30\n",
            "10/10 [==============================] - 0s 16ms/step - loss: 2.4074e-04 - val_loss: 8.1180e-06\n",
            "Epoch 25/30\n",
            "10/10 [==============================] - 0s 14ms/step - loss: 2.1607e-04 - val_loss: 4.0161e-06\n",
            "Epoch 26/30\n",
            "10/10 [==============================] - 0s 15ms/step - loss: 2.5975e-04 - val_loss: 3.6282e-04\n",
            "Epoch 27/30\n",
            "10/10 [==============================] - 0s 15ms/step - loss: 1.2176e-04 - val_loss: 2.7664e-05\n",
            "Epoch 28/30\n",
            "10/10 [==============================] - 0s 16ms/step - loss: 7.9910e-05 - val_loss: 2.7879e-04\n",
            "Epoch 29/30\n",
            "10/10 [==============================] - 0s 15ms/step - loss: 8.5918e-05 - val_loss: 1.2991e-05\n",
            "Epoch 30/30\n",
            "10/10 [==============================] - 0s 19ms/step - loss: 9.1872e-05 - val_loss: 6.5339e-05\n"
          ]
        }
      ]
    },
    {
      "cell_type": "code",
      "metadata": {
        "colab": {
          "base_uri": "https://localhost:8080/",
          "height": 295
        },
        "id": "-uQ0UDJOXAcA",
        "outputId": "42856a8d-9338-4704-bb85-f2aa246e7af7"
      },
      "source": [
        "\n",
        "#plot the training and validation accuracy and loss at each epoch\n",
        "loss = history.history['loss']\n",
        "val_loss = history.history['val_loss']\n",
        "epochs = range(1, len(loss) + 1)\n",
        "plt.plot(epochs, loss, 'y', label='Training loss')\n",
        "plt.plot(epochs, val_loss, 'r', label='Validation loss')\n",
        "plt.title('Training and validation loss')\n",
        "plt.xlabel('Epochs')\n",
        "plt.ylabel('Loss')\n",
        "plt.legend()\n",
        "plt.show()"
      ],
      "execution_count": null,
      "outputs": [
        {
          "output_type": "display_data",
          "data": {
            "image/png": "[encoded data removed]",
            "text/plain": [
              "<Figure size 432x288 with 1 Axes>"
            ]
          },
          "metadata": {
            "needs_background": "light"
          }
        }
      ]
    },
    {
      "cell_type": "code",
      "metadata": {
        "id": "trDFIx0EXIYQ"
      },
      "source": [
        "\n",
        "#forecast\n",
        "prediction = [] #Empty list to populate later with predictions\n",
        "\n",
        "current_batch = train_scaled[-seq_size:] #Final data points in train \n",
        "current_batch = current_batch.reshape(1, seq_size, n_features) #Reshape\n"
      ],
      "execution_count": null,
      "outputs": []
    },
    {
      "cell_type": "code",
      "metadata": {
        "id": "-XKk7W8LXVto"
      },
      "source": [
        "## Predict future, beyond test dates\n",
        "future = 7 #Days\n",
        "for i in range(len(test) + future):\n",
        "    current_pred = model.predict(current_batch)[0]\n",
        "    prediction.append(current_pred)\n",
        "    current_batch = np.append(current_batch[:,1:,:],[[current_pred]],axis=1)"
      ],
      "execution_count": null,
      "outputs": []
    },
    {
      "cell_type": "code",
      "metadata": {
        "id": "ejEWmPkuXlrK"
      },
      "source": [
        "\n",
        "### Inverse transform to before scaling so we get actual numbers\n",
        "rescaled_prediction = scaler.inverse_transform(prediction)\n",
        "\n",
        "time_series_array = test.index  #Get dates for test data"
      ],
      "execution_count": null,
      "outputs": []
    },
    {
      "cell_type": "code",
      "metadata": {
        "id": "DOnvgnz_X5Tj"
      },
      "source": [
        "#Add new dates for the forecast period\n",
        "for k in range(0, future):\n",
        "    time_series_array = time_series_array.append(time_series_array[-1:] + pd.DateOffset(1))"
      ],
      "execution_count": null,
      "outputs": []
    },
    {
      "cell_type": "code",
      "metadata": {
        "id": "8w2KfvjlYDK_"
      },
      "source": [
        "#Create a dataframe to capture the forecast data\n",
        "df_forecast = pd.DataFrame(columns=[\"actual_confirmed\",\"predicted\"], index=time_series_array)"
      ],
      "execution_count": null,
      "outputs": []
    },
    {
      "cell_type": "code",
      "metadata": {
        "colab": {
          "base_uri": "https://localhost:8080/",
          "height": 322
        },
        "id": "l0F3_gQnYH59",
        "outputId": "5cabad2f-a98b-4f2b-c33d-e807cb3268cf"
      },
      "source": [
        "df_forecast.loc[:,\"predicted\"] = rescaled_prediction[:,0]\n",
        "df_forecast.loc[:,\"actual_confirmed\"] = test[\"confirmed\"]\n",
        "\n",
        "#Plot\n",
        "df_forecast.plot(title=\"Predictions for next 7 days\")\n"
      ],
      "execution_count": null,
      "outputs": [
        {
          "output_type": "execute_result",
          "data": {
            "text/plain": [
              "<matplotlib.axes._subplots.AxesSubplot at 0x7f0c920ee890>"
            ]
          },
          "metadata": {},
          "execution_count": 26
        },
        {
          "output_type": "display_data",
          "data": {
            "image/png": "[encoded data removed]",
            "text/plain": [
              "<Figure size 432x288 with 1 Axes>"
            ]
          },
          "metadata": {
            "needs_background": "light"
          }
        }
      ]
    }
  ]
}